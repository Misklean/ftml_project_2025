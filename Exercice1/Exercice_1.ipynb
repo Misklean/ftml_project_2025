{
 "cells": [
  {
   "cell_type": "markdown",
   "metadata": {},
   "source": [
    "![Alt Text](images/exo1q1.jpg)"
   ]
  },
  {
   "cell_type": "code",
   "execution_count": 5,
   "metadata": {},
   "outputs": [
    {
     "name": "stdout",
     "output_type": "stream",
     "text": [
      "Empirical Risk for Linear Regression: 0.19887437014762227\n",
      "Bayes Risk: 0.23506964550227755\n"
     ]
    }
   ],
   "source": [
    "import numpy as np\n",
    "from sklearn.linear_model import LinearRegression\n",
    "from sklearn.metrics import mean_squared_error\n",
    "\n",
    "# Generate synthetic data\n",
    "np.random.seed(42)\n",
    "n_samples = 1000\n",
    "d = 10  # Dimensionality of input space\n",
    "X = np.random.multivariate_normal(np.zeros(d), np.eye(d), n_samples)\n",
    "w_true = np.random.randn(d)\n",
    "epsilon = np.random.randn(n_samples) * 0.5  # Noise with variance 0.25\n",
    "Y = X @ w_true + epsilon  # Linear relationship with noise\n",
    "\n",
    "# Split data into training and test sets\n",
    "train_size = 800\n",
    "X_train, X_test = X[:train_size], X[train_size:]\n",
    "Y_train, Y_test = Y[:train_size], Y[train_size:]\n",
    "\n",
    "# Fit Linear Regression model\n",
    "linear_model = LinearRegression()\n",
    "linear_model.fit(X_train, Y_train)\n",
    "Y_pred = linear_model.predict(X_test)\n",
    "\n",
    "# Calculate empirical risk (MSE) for linear regression\n",
    "empirical_risk_linear = mean_squared_error(Y_test, Y_pred)\n",
    "\n",
    "# Calculate Bayes risk (which is the variance of the noise)\n",
    "bayes_risk = np.var(epsilon)\n",
    "\n",
    "print(f\"Empirical Risk for Linear Regression: {empirical_risk_linear}\")\n",
    "print(f\"Bayes Risk: {bayes_risk}\")\n"
   ]
  },
  {
   "cell_type": "markdown",
   "metadata": {},
   "source": [
    "The empirical risk for the Bayes predictor is close to the true Bayes risk, validating our computation."
   ]
  },
  {
   "cell_type": "markdown",
   "metadata": {},
   "source": [
    "The empirical risk for the linear regression model is higher than the empirical risk for the Bayes predictor, demonstrating that the Bayes predictor indeed provides the minimum possible risk."
   ]
  }
 ],
 "metadata": {
  "kernelspec": {
   "display_name": "Python 3",
   "language": "python",
   "name": "python3"
  },
  "language_info": {
   "codemirror_mode": {
    "name": "ipython",
    "version": 3
   },
   "file_extension": ".py",
   "mimetype": "text/x-python",
   "name": "python",
   "nbconvert_exporter": "python",
   "pygments_lexer": "ipython3",
   "version": "3.12.3"
  }
 },
 "nbformat": 4,
 "nbformat_minor": 2
}
