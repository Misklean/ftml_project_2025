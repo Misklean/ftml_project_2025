{
 "cells": [
  {
   "cell_type": "code",
   "execution_count": 1,
   "metadata": {},
   "outputs": [],
   "source": [
    "from sklearn.model_selection import GridSearchCV, train_test_split\n",
    "from sklearn.linear_model import LinearRegression, Ridge, Lasso\n",
    "from sklearn.tree import DecisionTreeRegressor\n",
    "from sklearn.ensemble import RandomForestRegressor, GradientBoostingRegressor\n",
    "from sklearn.neighbors import KNeighborsRegressor\n",
    "from sklearn.svm import SVR\n",
    "from sklearn.gaussian_process import GaussianProcessRegressor\n",
    "from sklearn.preprocessing import PolynomialFeatures\n",
    "from sklearn.pipeline import Pipeline, make_pipeline\n",
    "from sklearn.compose import ColumnTransformer\n",
    "from sklearn.preprocessing import OneHotEncoder, StandardScaler\n",
    "import numpy as np\n",
    "import pandas as pd\n",
    "import matplotlib.pyplot as plt\n",
    "from sklearn.metrics import mean_squared_error, r2_score\n",
    "from sklearn.neural_network import MLPRegressor\n",
    "from sklearn.exceptions import ConvergenceWarning\n",
    "import warnings\n",
    "import gc\n",
    "import psutil\n",
    "import os\n"
   ]
  },
  {
   "cell_type": "code",
   "execution_count": 2,
   "metadata": {},
   "outputs": [
    {
     "name": "stdout",
     "output_type": "stream",
     "text": [
      "   work_year experience_level employment_type                  job_title  \\\n",
      "0       2024               SE              FT                AI Engineer   \n",
      "1       2024               SE              FT                AI Engineer   \n",
      "2       2024               SE              FT              Data Engineer   \n",
      "3       2024               SE              FT              Data Engineer   \n",
      "4       2024               SE              FT  Machine Learning Engineer   \n",
      "\n",
      "   salary salary_currency  salary_in_usd employee_residence  remote_ratio  \\\n",
      "0  202730             USD         202730                 US             0   \n",
      "1   92118             USD          92118                 US             0   \n",
      "2  130500             USD         130500                 US             0   \n",
      "3   96000             USD          96000                 US             0   \n",
      "4  190000             USD         190000                 US             0   \n",
      "\n",
      "  company_location company_size  \n",
      "0               US            M  \n",
      "1               US            M  \n",
      "2               US            M  \n",
      "3               US            M  \n",
      "4               US            M  \n",
      "<class 'pandas.core.frame.DataFrame'>\n",
      "RangeIndex: 16534 entries, 0 to 16533\n",
      "Data columns (total 11 columns):\n",
      " #   Column              Non-Null Count  Dtype \n",
      "---  ------              --------------  ----- \n",
      " 0   work_year           16534 non-null  int64 \n",
      " 1   experience_level    16534 non-null  object\n",
      " 2   employment_type     16534 non-null  object\n",
      " 3   job_title           16534 non-null  object\n",
      " 4   salary              16534 non-null  int64 \n",
      " 5   salary_currency     16534 non-null  object\n",
      " 6   salary_in_usd       16534 non-null  int64 \n",
      " 7   employee_residence  16534 non-null  object\n",
      " 8   remote_ratio        16534 non-null  int64 \n",
      " 9   company_location    16534 non-null  object\n",
      " 10  company_size        16534 non-null  object\n",
      "dtypes: int64(4), object(7)\n",
      "memory usage: 1.4+ MB\n",
      "None\n",
      "          work_year        salary  salary_in_usd  remote_ratio\n",
      "count  16534.000000  1.653400e+04   16534.000000  16534.000000\n",
      "mean    2023.226866  1.637270e+05  149686.777973     32.003750\n",
      "std        0.713558  3.402057e+05   68505.293156     46.245158\n",
      "min     2020.000000  1.400000e+04   15000.000000      0.000000\n",
      "25%     2023.000000  1.017630e+05  101125.000000      0.000000\n",
      "50%     2023.000000  1.422000e+05  141300.000000      0.000000\n",
      "75%     2024.000000  1.872000e+05  185900.000000    100.000000\n",
      "max     2024.000000  3.040000e+07  800000.000000    100.000000\n"
     ]
    }
   ],
   "source": [
    "# Load the dataset\n",
    "data = pd.read_csv('./datasets/salaries.csv')\n",
    "\n",
    "# Data exploration\n",
    "print(data.head())\n",
    "print(data.info())\n",
    "print(data.describe())"
   ]
  },
  {
   "cell_type": "code",
   "execution_count": 3,
   "metadata": {},
   "outputs": [],
   "source": [
    "# Handling missing values (if any)\n",
    "data = data.dropna()\n",
    "\n",
    "# Convert categorical features to numerical using OneHotEncoder\n",
    "categorical_features = ['experience_level', 'employment_type', 'job_title', 'employee_residence', 'company_location', 'company_size']\n",
    "numerical_features = ['remote_ratio']\n",
    "\n",
    "preprocessor = ColumnTransformer(\n",
    "    transformers=[\n",
    "        ('num', StandardScaler(), numerical_features),\n",
    "        ('cat', OneHotEncoder(handle_unknown='ignore'), categorical_features)])"
   ]
  },
  {
   "cell_type": "code",
   "execution_count": 4,
   "metadata": {},
   "outputs": [],
   "source": [
    "# Splitting the data into train and test sets\n",
    "X = data.drop(columns=['salary_in_usd', 'salary', 'salary_currency', 'work_year'])\n",
    "y = data['salary_in_usd']\n",
    "\n",
    "X_train, X_test, y_train, y_test = train_test_split(X, y, test_size=0.2, random_state=42)"
   ]
  },
  {
   "cell_type": "code",
   "execution_count": 5,
   "metadata": {},
   "outputs": [],
   "source": [
    "# Define the models\n",
    "models = {\n",
    "    'Linear Regression': LinearRegression(),\n",
    "    'Ridge Regression': Ridge(),\n",
    "    'Lasso Regression': Lasso(max_iter=5000),\n",
    "    # 'Neural Network Regression': MLPRegressor(max_iter=1000),\n",
    "    'Decision Tree': DecisionTreeRegressor(),\n",
    "    'Random Forest': RandomForestRegressor(),\n",
    "    'KNN': KNeighborsRegressor(),\n",
    "    'Support Vector Machines': SVR(),\n",
    "    # 'Gaussian Process': GaussianProcessRegressor(),\n",
    "    # 'Polynomial Regression': make_pipeline(PolynomialFeatures(), LinearRegression()),\n",
    "    'Gradient Boosting': GradientBoostingRegressor()\n",
    "}\n",
    "\n",
    "# Define the parameter grids\n",
    "param_grids = {\n",
    "    'Linear Regression': {\n",
    "        'model__fit_intercept': [True, False],\n",
    "        'model__n_jobs': [None, -1]\n",
    "    },\n",
    "    'Ridge Regression': {\n",
    "        'model__alpha': [0.1, 1.0, 10.0],\n",
    "        'model__fit_intercept': [True, False]\n",
    "    },\n",
    "    'Lasso Regression': {\n",
    "        'model__alpha': [0.1, 1.0, 10.0],\n",
    "        'model__fit_intercept': [True, False]\n",
    "    },\n",
    "    # 'Neural Network Regression': {\n",
    "    #     'model__hidden_layer_sizes': [(50,), (100,), (50, 50)],\n",
    "    #     'model__activation': ['relu', 'tanh'],\n",
    "    #     'model__solver': ['adam', 'sgd'],\n",
    "    #     'model__alpha': [0.0001, 0.001, 0.01]\n",
    "    # },\n",
    "    'Decision Tree': {\n",
    "        'model__max_depth': [None, 10, 20, 30, 40, 50],\n",
    "        'model__min_samples_split': [2, 5, 10],\n",
    "        'model__min_samples_leaf': [1, 2, 4]\n",
    "    },\n",
    "    'Random Forest': {\n",
    "        'model__n_estimators': [100, 200, 300],\n",
    "        'model__max_depth': [None, 10, 20, 30],\n",
    "        'model__min_samples_split': [2, 5, 10],\n",
    "        'model__min_samples_leaf': [1, 2, 4]\n",
    "    },\n",
    "    'KNN': {\n",
    "        'model__n_neighbors': [3, 5, 7, 9],\n",
    "        'model__weights': ['uniform', 'distance']\n",
    "    },\n",
    "    'Support Vector Machines': {\n",
    "        'model__kernel': ['linear', 'poly', 'rbf', 'sigmoid'],\n",
    "        'model__C': [0.1, 1.0, 10.0, 100.0]\n",
    "    },\n",
    "    # 'Gaussian Process': {\n",
    "    #     'model__alpha': [1e-10, 1e-2, 1e-1, 1]\n",
    "    # },\n",
    "    # 'Polynomial Regression': {\n",
    "    #     'model__polynomialfeatures__degree': [2, 3, 4],\n",
    "    #     'model__linearregression__fit_intercept': [True, False],\n",
    "    #     'model__linearregression__n_jobs': [None, -1]\n",
    "    # },\n",
    "    'Gradient Boosting': {\n",
    "        'model__n_estimators': [100, 200, 300],\n",
    "        'model__learning_rate': [0.01, 0.1, 0.05],\n",
    "        'model__max_depth': [3, 4, 5],\n",
    "        'model__min_samples_split': [2, 5, 10],\n",
    "        'model__min_samples_leaf': [1, 2, 4]\n",
    "    }\n",
    "}\n"
   ]
  },
  {
   "cell_type": "code",
   "execution_count": 6,
   "metadata": {},
   "outputs": [],
   "source": [
    "# Function to perform grid search for a given model and its parameter grid\n",
    "def perform_grid_search(model_name, model, param_grid, X_train, y_train):\n",
    "    pipeline = Pipeline(steps=[('preprocessor', preprocessor), ('model', model)])\n",
    "    grid_search = GridSearchCV(pipeline, param_grid, cv=5, scoring='r2', n_jobs=2, error_score=np.nan)\n",
    "    with warnings.catch_warnings():\n",
    "        warnings.filterwarnings('ignore', category=ConvergenceWarning)\n",
    "        grid_search.fit(X_train, y_train)\n",
    "    return grid_search\n"
   ]
  },
  {
   "cell_type": "code",
   "execution_count": 7,
   "metadata": {},
   "outputs": [
    {
     "name": "stdout",
     "output_type": "stream",
     "text": [
      "Performing grid search for Linear Regression...\n",
      "Best parameters for Linear Regression: {'model__fit_intercept': True, 'model__n_jobs': None}\n",
      "Best R2 score for Linear Regression: 0.3164908235311629\n",
      "Performing grid search for Ridge Regression...\n",
      "Best parameters for Ridge Regression: {'model__alpha': 10.0, 'model__fit_intercept': True}\n",
      "Best R2 score for Ridge Regression: 0.32572313461942815\n",
      "Performing grid search for Lasso Regression...\n"
     ]
    },
    {
     "name": "stderr",
     "output_type": "stream",
     "text": [
      "/home/flo/afs/projects/epita/ftml_project_2025/.GPU/lib/python3.10/site-packages/sklearn/linear_model/_coordinate_descent.py:658: ConvergenceWarning: Objective did not converge. You might want to increase the number of iterations. Duality gap: 2637267455144.301, tolerance: 4874456408.402365\n",
      "  model = cd_fast.sparse_enet_coordinate_descent(\n",
      "/home/flo/afs/projects/epita/ftml_project_2025/.GPU/lib/python3.10/site-packages/sklearn/linear_model/_coordinate_descent.py:658: ConvergenceWarning: Objective did not converge. You might want to increase the number of iterations. Duality gap: 461566701527.7344, tolerance: 5042226671.428914\n",
      "  model = cd_fast.sparse_enet_coordinate_descent(\n",
      "/home/flo/afs/projects/epita/ftml_project_2025/.GPU/lib/python3.10/site-packages/sklearn/linear_model/_coordinate_descent.py:658: ConvergenceWarning: Objective did not converge. You might want to increase the number of iterations. Duality gap: 2610083895790.211, tolerance: 4874444709.635684\n",
      "  model = cd_fast.sparse_enet_coordinate_descent(\n",
      "/home/flo/afs/projects/epita/ftml_project_2025/.GPU/lib/python3.10/site-packages/sklearn/linear_model/_coordinate_descent.py:658: ConvergenceWarning: Objective did not converge. You might want to increase the number of iterations. Duality gap: 1000998501606.5312, tolerance: 5002732051.046207\n",
      "  model = cd_fast.sparse_enet_coordinate_descent(\n",
      "/home/flo/afs/projects/epita/ftml_project_2025/.GPU/lib/python3.10/site-packages/sklearn/linear_model/_coordinate_descent.py:658: ConvergenceWarning: Objective did not converge. You might want to increase the number of iterations. Duality gap: 15090637564320.766, tolerance: 28916659441.2056\n",
      "  model = cd_fast.sparse_enet_coordinate_descent(\n",
      "/home/flo/afs/projects/epita/ftml_project_2025/.GPU/lib/python3.10/site-packages/sklearn/linear_model/_coordinate_descent.py:658: ConvergenceWarning: Objective did not converge. You might want to increase the number of iterations. Duality gap: 14690245472957.777, tolerance: 28685343327.2904\n",
      "  model = cd_fast.sparse_enet_coordinate_descent(\n",
      "/home/flo/afs/projects/epita/ftml_project_2025/.GPU/lib/python3.10/site-packages/sklearn/linear_model/_coordinate_descent.py:658: ConvergenceWarning: Objective did not converge. You might want to increase the number of iterations. Duality gap: 14690656080255.27, tolerance: 28440266252.8287\n",
      "  model = cd_fast.sparse_enet_coordinate_descent(\n",
      "/home/flo/afs/projects/epita/ftml_project_2025/.GPU/lib/python3.10/site-packages/sklearn/linear_model/_coordinate_descent.py:658: ConvergenceWarning: Objective did not converge. You might want to increase the number of iterations. Duality gap: 15130009860424.736, tolerance: 28860876942.138702\n",
      "  model = cd_fast.sparse_enet_coordinate_descent(\n",
      "/home/flo/afs/projects/epita/ftml_project_2025/.GPU/lib/python3.10/site-packages/sklearn/linear_model/_coordinate_descent.py:658: ConvergenceWarning: Objective did not converge. You might want to increase the number of iterations. Duality gap: 14903427837782.127, tolerance: 28568429296.4454\n",
      "  model = cd_fast.sparse_enet_coordinate_descent(\n",
      "/home/flo/afs/projects/epita/ftml_project_2025/.GPU/lib/python3.10/site-packages/sklearn/linear_model/_coordinate_descent.py:658: ConvergenceWarning: Objective did not converge. You might want to increase the number of iterations. Duality gap: 1473188455657.461, tolerance: 4915259778.46693\n",
      "  model = cd_fast.sparse_enet_coordinate_descent(\n",
      "/home/flo/afs/projects/epita/ftml_project_2025/.GPU/lib/python3.10/site-packages/sklearn/linear_model/_coordinate_descent.py:658: ConvergenceWarning: Objective did not converge. You might want to increase the number of iterations. Duality gap: 9194524791801.174, tolerance: 28916659441.2056\n",
      "  model = cd_fast.sparse_enet_coordinate_descent(\n",
      "/home/flo/afs/projects/epita/ftml_project_2025/.GPU/lib/python3.10/site-packages/sklearn/linear_model/_coordinate_descent.py:658: ConvergenceWarning: Objective did not converge. You might want to increase the number of iterations. Duality gap: 8832180973806.875, tolerance: 28685343327.2904\n",
      "  model = cd_fast.sparse_enet_coordinate_descent(\n",
      "/home/flo/afs/projects/epita/ftml_project_2025/.GPU/lib/python3.10/site-packages/sklearn/linear_model/_coordinate_descent.py:658: ConvergenceWarning: Objective did not converge. You might want to increase the number of iterations. Duality gap: 10030965085316.13, tolerance: 28440266252.8287\n",
      "  model = cd_fast.sparse_enet_coordinate_descent(\n",
      "/home/flo/afs/projects/epita/ftml_project_2025/.GPU/lib/python3.10/site-packages/sklearn/linear_model/_coordinate_descent.py:658: ConvergenceWarning: Objective did not converge. You might want to increase the number of iterations. Duality gap: 8328436768902.527, tolerance: 28860876942.138702\n",
      "  model = cd_fast.sparse_enet_coordinate_descent(\n",
      "/home/flo/afs/projects/epita/ftml_project_2025/.GPU/lib/python3.10/site-packages/sklearn/linear_model/_coordinate_descent.py:658: ConvergenceWarning: Objective did not converge. You might want to increase the number of iterations. Duality gap: 9095403309746.781, tolerance: 28568429296.4454\n",
      "  model = cd_fast.sparse_enet_coordinate_descent(\n"
     ]
    },
    {
     "name": "stdout",
     "output_type": "stream",
     "text": [
      "Best parameters for Lasso Regression: {'model__alpha': 10.0, 'model__fit_intercept': True}\n",
      "Best R2 score for Lasso Regression: 0.325081022760493\n",
      "Performing grid search for Decision Tree...\n",
      "Best parameters for Decision Tree: {'model__max_depth': 40, 'model__min_samples_leaf': 4, 'model__min_samples_split': 10}\n",
      "Best R2 score for Decision Tree: 0.3116316919624512\n",
      "Performing grid search for Random Forest...\n",
      "Best parameters for Random Forest: {'model__max_depth': None, 'model__min_samples_leaf': 1, 'model__min_samples_split': 10, 'model__n_estimators': 100}\n",
      "Best R2 score for Random Forest: 0.32325090107437005\n",
      "Performing grid search for KNN...\n",
      "Best parameters for KNN: {'model__n_neighbors': 9, 'model__weights': 'distance'}\n",
      "Best R2 score for KNN: 0.2733262108100828\n",
      "Performing grid search for Support Vector Machines...\n",
      "Best parameters for Support Vector Machines: {'model__C': 100.0, 'model__kernel': 'linear'}\n",
      "Best R2 score for Support Vector Machines: 0.23016581920141582\n",
      "Performing grid search for Gradient Boosting...\n",
      "Best parameters for Gradient Boosting: {'model__learning_rate': 0.1, 'model__max_depth': 4, 'model__min_samples_leaf': 4, 'model__min_samples_split': 10, 'model__n_estimators': 300}\n",
      "Best R2 score for Gradient Boosting: 0.33088426271883287\n"
     ]
    }
   ],
   "source": [
    "# Perform grid search for each model\n",
    "best_estimators = {}\n",
    "for model_name, model in models.items():\n",
    "    print(f\"Performing grid search for {model_name}...\")\n",
    "    grid_search = perform_grid_search(model_name, model, param_grids[model_name], X_train, y_train)\n",
    "    best_estimators[model_name] = grid_search.best_estimator_\n",
    "    print(f\"Best parameters for {model_name}: {grid_search.best_params_}\")\n",
    "    print(f\"Best R2 score for {model_name}: {grid_search.best_score_}\")\n",
    "    # Clear memory\n",
    "    del grid_search\n",
    "    gc.collect()"
   ]
  },
  {
   "cell_type": "code",
   "execution_count": 8,
   "metadata": {},
   "outputs": [
    {
     "name": "stdout",
     "output_type": "stream",
     "text": [
      "Linear Regression: MSE = 3330859953.7592597, R2 = 0.30340991495305836\n",
      "Ridge Regression: MSE = 3306803771.933015, R2 = 0.3084408372904973\n",
      "Lasso Regression: MSE = 3315831315.8329544, R2 = 0.30655288713338347\n",
      "Decision Tree: MSE = 3339198533.409747, R2 = 0.3016660494082617\n",
      "Random Forest: MSE = 3258100986.795791, R2 = 0.3186261581120684\n",
      "KNN: MSE = 3614819473.0009575, R2 = 0.2440248347021703\n",
      "Support Vector Machines: MSE = 3709059740.4780087, R2 = 0.22431615981099218\n",
      "Gradient Boosting: MSE = 3264317413.1327724, R2 = 0.31732610316803556\n"
     ]
    }
   ],
   "source": [
    "# Evaluate the best estimators on the test set\n",
    "results = {}\n",
    "for model_name, model in best_estimators.items():\n",
    "    y_pred = model.predict(X_test)\n",
    "    mse = mean_squared_error(y_test, y_pred)\n",
    "    r2 = r2_score(y_test, y_pred)\n",
    "    results[model_name] = {'MSE': mse, 'R2': r2}\n",
    "\n",
    "# Print the results\n",
    "for model_name, result in results.items():\n",
    "    print(f\"{model_name}: MSE = {result['MSE']}, R2 = {result['R2']}\")"
   ]
  },
  {
   "cell_type": "code",
   "execution_count": 9,
   "metadata": {},
   "outputs": [
    {
     "data": {
      "image/png": "[encoded data removed]",
      "text/plain": [
       "<Figure size 1000x500 with 1 Axes>"
      ]
     },
     "metadata": {},
     "output_type": "display_data"
    }
   ],
   "source": [
    "# Visualize the results\n",
    "results_df = pd.DataFrame(results).T\n",
    "results_df.plot(kind='bar', figsize=(10, 5))\n",
    "plt.title('Model Performance After Grid Search')\n",
    "plt.ylabel('Score')\n",
    "plt.show()"
   ]
  },
  {
   "cell_type": "code",
   "execution_count": 10,
   "metadata": {},
   "outputs": [],
   "source": [
    "# # Predicting salaries for new data\n",
    "# new_data = pd.DataFrame({\n",
    "#     'experience_level': ['SE'],\n",
    "#     'employment_type': ['FT'],\n",
    "#     'job_title': ['Data Scientist'],\n",
    "#     'employee_residence': ['US'],\n",
    "#     'remote_ratio': [1],\n",
    "#     'company_location': ['US'],\n",
    "#     'company_size': ['M']\n",
    "# })\n",
    "# predicted_salary = pipeline.predict(new_data)\n",
    "# print(f\"Predicted Salary in USD: {predicted_salary[0]}\")"
   ]
  },
  {
   "cell_type": "code",
   "execution_count": null,
   "metadata": {},
   "outputs": [],
   "source": []
  }
 ],
 "metadata": {
  "kernelspec": {
   "display_name": ".GPU",
   "language": "python",
   "name": "python3"
  },
  "language_info": {
   "codemirror_mode": {
    "name": "ipython",
    "version": 3
   },
   "file_extension": ".py",
   "mimetype": "text/x-python",
   "name": "python",
   "nbconvert_exporter": "python",
   "pygments_lexer": "ipython3",
   "version": "3.10.12"
  }
 },
 "nbformat": 4,
 "nbformat_minor": 2
}
