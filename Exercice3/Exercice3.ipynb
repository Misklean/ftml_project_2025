{
 "cells": [
  {
   "cell_type": "code",
   "execution_count": 3,
   "metadata": {},
   "outputs": [
    {
     "name": "stdout",
     "output_type": "stream",
     "text": [
      "Residual Sum of Squares: 54.545734098798064\n",
      "Estimated sigma^2: 0.9090955683133011\n",
      "Theoretical sigma^2: 1.0\n",
      "Empirical Risk: 2.774180662909373\n",
      "Estimated sigma^2 from the training set: 0.9090955683133011\n",
      "Theoretical sigma^2: 1.0\n"
     ]
    }
   ],
   "source": [
    "import numpy as np\n",
    "import matplotlib.pyplot as plt\n",
    "from sklearn.linear_model import LinearRegression\n",
    "from sklearn.metrics import mean_squared_error\n",
    "\n",
    "# Generate synthetic data\n",
    "np.random.seed(42)\n",
    "n_samples = 200\n",
    "n_features = 100  # Reduced number of features\n",
    "X = np.random.randn(n_samples, n_features)\n",
    "theta_star = np.random.randn(n_features)\n",
    "sigma = 1.0\n",
    "epsilon = np.random.randn(n_samples) * sigma\n",
    "y = X @ theta_star + epsilon\n",
    "\n",
    "# Split data into training and test sets\n",
    "train_size = int(0.8 * n_samples)\n",
    "X_train, X_test = X[:train_size], X[train_size:]\n",
    "y_train, y_test = y[:train_size], y[train_size:]\n",
    "\n",
    "# Fit OLS model\n",
    "model = LinearRegression()\n",
    "model.fit(X_train, y_train)\n",
    "y_pred_train = model.predict(X_train)\n",
    "\n",
    "# Compute empirical risk\n",
    "residual_sum_of_squares = np.sum((y_train - y_pred_train) ** 2)\n",
    "n, d = X_train.shape\n",
    "\n",
    "# Estimate sigma^2 using empirical risk\n",
    "sigma_squared_est = residual_sum_of_squares / (n - d)\n",
    "\n",
    "print(f\"Residual Sum of Squares: {residual_sum_of_squares}\")\n",
    "print(f\"Estimated sigma^2: {sigma_squared_est}\")\n",
    "print(f\"Theoretical sigma^2: {sigma**2}\")\n",
    "\n",
    "# Validate the result using test set\n",
    "y_pred_test = model.predict(X_test)\n",
    "empirical_risk = mean_squared_error(y_test, y_pred_test)\n",
    "print(f\"Empirical Risk: {empirical_risk}\")\n",
    "\n",
    "# The theoretical sigma^2 value used in the generation of synthetic data\n",
    "theoretical_sigma_squared = sigma ** 2\n",
    "\n",
    "# Print results\n",
    "print(f\"Estimated sigma^2 from the training set: {sigma_squared_est}\")\n",
    "print(f\"Theoretical sigma^2: {theoretical_sigma_squared}\")\n",
    "\n",
    "# Check consistency with theoretical value\n",
    "assert np.isclose(sigma_squared_est, theoretical_sigma_squared, atol=0.1), \"The estimated sigma^2 is not consistent with the theoretical value.\""
   ]
  },
  {
   "cell_type": "markdown",
   "metadata": {},
   "source": [
    "![Alt Text](images/exo3_1.jpg)"
   ]
  },
  {
   "cell_type": "markdown",
   "metadata": {},
   "source": [
    "![Alt Text](images/exo3_2.jpg)\n",
    "![Alt Text](images/exo3_3.jpg)"
   ]
  }
 ],
 "metadata": {
  "kernelspec": {
   "display_name": "venv",
   "language": "python",
   "name": "python3"
  },
  "language_info": {
   "codemirror_mode": {
    "name": "ipython",
    "version": 3
   },
   "file_extension": ".py",
   "mimetype": "text/x-python",
   "name": "python",
   "nbconvert_exporter": "python",
   "pygments_lexer": "ipython3",
   "version": "3.12.3"
  }
 },
 "nbformat": 4,
 "nbformat_minor": 2
}
